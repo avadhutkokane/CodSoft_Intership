{
 "cells": [
  {
   "cell_type": "markdown",
   "id": "edd5a30a",
   "metadata": {},
   "source": [
    "## IMPORTING LIBRARIES AND READING DATA FROM CSV FILES"
   ]
  },
  {
   "cell_type": "code",
   "execution_count": 1,
   "id": "2f70c7c9",
   "metadata": {},
   "outputs": [],
   "source": [
    "import pandas as pd \n",
    "import numpy as np\n",
    "import seaborn as sns\n",
    "import matplotlib.pyplot as plt\n"
   ]
  },
  {
   "cell_type": "code",
   "execution_count": 2,
   "id": "1b53acd7",
   "metadata": {},
   "outputs": [
    {
     "name": "stderr",
     "output_type": "stream",
     "text": [
      "F:\\Users\\Admin\\anaconda3\\lib\\site-packages\\pandas\\util\\_decorators.py:311: ParserWarning: Falling back to the 'python' engine because the 'c' engine does not support regex separators (separators > 1 char and different from '\\s+' are interpreted as regex); you can avoid this warning by specifying engine='python'.\n",
      "  return func(*args, **kwargs)\n"
     ]
    },
    {
     "data": {
      "text/html": [
       "<div>\n",
       "<style scoped>\n",
       "    .dataframe tbody tr th:only-of-type {\n",
       "        vertical-align: middle;\n",
       "    }\n",
       "\n",
       "    .dataframe tbody tr th {\n",
       "        vertical-align: top;\n",
       "    }\n",
       "\n",
       "    .dataframe thead th {\n",
       "        text-align: right;\n",
       "    }\n",
       "</style>\n",
       "<table border=\"1\" class=\"dataframe\">\n",
       "  <thead>\n",
       "    <tr style=\"text-align: right;\">\n",
       "      <th></th>\n",
       "      <th>ID</th>\n",
       "      <th>TITLE</th>\n",
       "      <th>GENRE</th>\n",
       "      <th>DESCRIPTION</th>\n",
       "    </tr>\n",
       "  </thead>\n",
       "  <tbody>\n",
       "    <tr>\n",
       "      <th>0</th>\n",
       "      <td>1</td>\n",
       "      <td>Oscar et la dame rose (2009)</td>\n",
       "      <td>drama</td>\n",
       "      <td>Listening in to a conversation between his do...</td>\n",
       "    </tr>\n",
       "    <tr>\n",
       "      <th>1</th>\n",
       "      <td>2</td>\n",
       "      <td>Cupid (1997)</td>\n",
       "      <td>thriller</td>\n",
       "      <td>A brother and sister with a past incestuous r...</td>\n",
       "    </tr>\n",
       "    <tr>\n",
       "      <th>2</th>\n",
       "      <td>3</td>\n",
       "      <td>Young, Wild and Wonderful (1980)</td>\n",
       "      <td>adult</td>\n",
       "      <td>As the bus empties the students for their fie...</td>\n",
       "    </tr>\n",
       "    <tr>\n",
       "      <th>3</th>\n",
       "      <td>4</td>\n",
       "      <td>The Secret Sin (1915)</td>\n",
       "      <td>drama</td>\n",
       "      <td>To help their unemployed father make ends mee...</td>\n",
       "    </tr>\n",
       "    <tr>\n",
       "      <th>4</th>\n",
       "      <td>5</td>\n",
       "      <td>The Unrecovered (2007)</td>\n",
       "      <td>drama</td>\n",
       "      <td>The film's title refers not only to the un-re...</td>\n",
       "    </tr>\n",
       "  </tbody>\n",
       "</table>\n",
       "</div>"
      ],
      "text/plain": [
       "   ID                               TITLE       GENRE  \\\n",
       "0   1       Oscar et la dame rose (2009)       drama    \n",
       "1   2                       Cupid (1997)    thriller    \n",
       "2   3   Young, Wild and Wonderful (1980)       adult    \n",
       "3   4              The Secret Sin (1915)       drama    \n",
       "4   5             The Unrecovered (2007)       drama    \n",
       "\n",
       "                                         DESCRIPTION  \n",
       "0   Listening in to a conversation between his do...  \n",
       "1   A brother and sister with a past incestuous r...  \n",
       "2   As the bus empties the students for their fie...  \n",
       "3   To help their unemployed father make ends mee...  \n",
       "4   The film's title refers not only to the un-re...  "
      ]
     },
     "metadata": {},
     "output_type": "display_data"
    },
    {
     "name": "stdout",
     "output_type": "stream",
     "text": [
      "<class 'pandas.core.frame.DataFrame'>\n",
      "RangeIndex: 54214 entries, 0 to 54213\n",
      "Data columns (total 4 columns):\n",
      " #   Column       Non-Null Count  Dtype \n",
      "---  ------       --------------  ----- \n",
      " 0   ID           54214 non-null  int64 \n",
      " 1   TITLE        54214 non-null  object\n",
      " 2   GENRE        54214 non-null  object\n",
      " 3   DESCRIPTION  54214 non-null  object\n",
      "dtypes: int64(1), object(3)\n",
      "memory usage: 1.7+ MB\n",
      "(54214, 4)\n"
     ]
    },
    {
     "name": "stderr",
     "output_type": "stream",
     "text": [
      "F:\\Users\\Admin\\anaconda3\\lib\\site-packages\\pandas\\util\\_decorators.py:311: ParserWarning: Falling back to the 'python' engine because the 'c' engine does not support regex separators (separators > 1 char and different from '\\s+' are interpreted as regex); you can avoid this warning by specifying engine='python'.\n",
      "  return func(*args, **kwargs)\n"
     ]
    },
    {
     "data": {
      "text/html": [
       "<div>\n",
       "<style scoped>\n",
       "    .dataframe tbody tr th:only-of-type {\n",
       "        vertical-align: middle;\n",
       "    }\n",
       "\n",
       "    .dataframe tbody tr th {\n",
       "        vertical-align: top;\n",
       "    }\n",
       "\n",
       "    .dataframe thead th {\n",
       "        text-align: right;\n",
       "    }\n",
       "</style>\n",
       "<table border=\"1\" class=\"dataframe\">\n",
       "  <thead>\n",
       "    <tr style=\"text-align: right;\">\n",
       "      <th></th>\n",
       "      <th>ID</th>\n",
       "      <th>TITLE</th>\n",
       "      <th>GENRE</th>\n",
       "      <th>DESCRIPTION</th>\n",
       "    </tr>\n",
       "  </thead>\n",
       "  <tbody>\n",
       "    <tr>\n",
       "      <th>0</th>\n",
       "      <td>1</td>\n",
       "      <td>Edgar's Lunch (1998)</td>\n",
       "      <td>L.R. Brane loves his life - his car, his apar...</td>\n",
       "      <td>NaN</td>\n",
       "    </tr>\n",
       "    <tr>\n",
       "      <th>1</th>\n",
       "      <td>2</td>\n",
       "      <td>La guerra de papá (1977)</td>\n",
       "      <td>Spain, March 1964: Quico is a very naughty ch...</td>\n",
       "      <td>NaN</td>\n",
       "    </tr>\n",
       "    <tr>\n",
       "      <th>2</th>\n",
       "      <td>3</td>\n",
       "      <td>Off the Beaten Track (2010)</td>\n",
       "      <td>One year in the life of Albin and his family ...</td>\n",
       "      <td>NaN</td>\n",
       "    </tr>\n",
       "    <tr>\n",
       "      <th>3</th>\n",
       "      <td>4</td>\n",
       "      <td>Meu Amigo Hindu (2015)</td>\n",
       "      <td>His father has died, he hasn't spoken with hi...</td>\n",
       "      <td>NaN</td>\n",
       "    </tr>\n",
       "    <tr>\n",
       "      <th>4</th>\n",
       "      <td>5</td>\n",
       "      <td>Er nu zhai (1955)</td>\n",
       "      <td>Before he was known internationally as a mart...</td>\n",
       "      <td>NaN</td>\n",
       "    </tr>\n",
       "  </tbody>\n",
       "</table>\n",
       "</div>"
      ],
      "text/plain": [
       "   ID                          TITLE  \\\n",
       "0   1          Edgar's Lunch (1998)    \n",
       "1   2      La guerra de papá (1977)    \n",
       "2   3   Off the Beaten Track (2010)    \n",
       "3   4        Meu Amigo Hindu (2015)    \n",
       "4   5             Er nu zhai (1955)    \n",
       "\n",
       "                                               GENRE  DESCRIPTION  \n",
       "0   L.R. Brane loves his life - his car, his apar...          NaN  \n",
       "1   Spain, March 1964: Quico is a very naughty ch...          NaN  \n",
       "2   One year in the life of Albin and his family ...          NaN  \n",
       "3   His father has died, he hasn't spoken with hi...          NaN  \n",
       "4   Before he was known internationally as a mart...          NaN  "
      ]
     },
     "metadata": {},
     "output_type": "display_data"
    },
    {
     "name": "stdout",
     "output_type": "stream",
     "text": [
      "None\n",
      "<class 'pandas.core.frame.DataFrame'>\n",
      "RangeIndex: 54214 entries, 0 to 54213\n",
      "Data columns (total 4 columns):\n",
      " #   Column       Non-Null Count  Dtype \n",
      "---  ------       --------------  ----- \n",
      " 0   ID           54214 non-null  int64 \n",
      " 1   TITLE        54214 non-null  object\n",
      " 2   GENRE        54214 non-null  object\n",
      " 3   DESCRIPTION  54214 non-null  object\n",
      "dtypes: int64(1), object(3)\n",
      "memory usage: 1.7+ MB\n",
      "(54200, 4)\n"
     ]
    },
    {
     "name": "stderr",
     "output_type": "stream",
     "text": [
      "F:\\Users\\Admin\\anaconda3\\lib\\site-packages\\pandas\\util\\_decorators.py:311: ParserWarning: Falling back to the 'python' engine because the 'c' engine does not support regex separators (separators > 1 char and different from '\\s+' are interpreted as regex); you can avoid this warning by specifying engine='python'.\n",
      "  return func(*args, **kwargs)\n"
     ]
    },
    {
     "data": {
      "text/html": [
       "<div>\n",
       "<style scoped>\n",
       "    .dataframe tbody tr th:only-of-type {\n",
       "        vertical-align: middle;\n",
       "    }\n",
       "\n",
       "    .dataframe tbody tr th {\n",
       "        vertical-align: top;\n",
       "    }\n",
       "\n",
       "    .dataframe thead th {\n",
       "        text-align: right;\n",
       "    }\n",
       "</style>\n",
       "<table border=\"1\" class=\"dataframe\">\n",
       "  <thead>\n",
       "    <tr style=\"text-align: right;\">\n",
       "      <th></th>\n",
       "      <th>ID</th>\n",
       "      <th>TITLE</th>\n",
       "      <th>GENRE</th>\n",
       "      <th>DESCRIPTION</th>\n",
       "    </tr>\n",
       "  </thead>\n",
       "  <tbody>\n",
       "    <tr>\n",
       "      <th>0</th>\n",
       "      <td>1</td>\n",
       "      <td>Edgar's Lunch (1998)</td>\n",
       "      <td>thriller</td>\n",
       "      <td>L.R. Brane loves his life - his car, his apar...</td>\n",
       "    </tr>\n",
       "    <tr>\n",
       "      <th>1</th>\n",
       "      <td>2</td>\n",
       "      <td>La guerra de papá (1977)</td>\n",
       "      <td>comedy</td>\n",
       "      <td>Spain, March 1964: Quico is a very naughty ch...</td>\n",
       "    </tr>\n",
       "    <tr>\n",
       "      <th>2</th>\n",
       "      <td>3</td>\n",
       "      <td>Off the Beaten Track (2010)</td>\n",
       "      <td>documentary</td>\n",
       "      <td>One year in the life of Albin and his family ...</td>\n",
       "    </tr>\n",
       "    <tr>\n",
       "      <th>3</th>\n",
       "      <td>4</td>\n",
       "      <td>Meu Amigo Hindu (2015)</td>\n",
       "      <td>drama</td>\n",
       "      <td>His father has died, he hasn't spoken with hi...</td>\n",
       "    </tr>\n",
       "    <tr>\n",
       "      <th>4</th>\n",
       "      <td>5</td>\n",
       "      <td>Er nu zhai (1955)</td>\n",
       "      <td>drama</td>\n",
       "      <td>Before he was known internationally as a mart...</td>\n",
       "    </tr>\n",
       "  </tbody>\n",
       "</table>\n",
       "</div>"
      ],
      "text/plain": [
       "   ID                          TITLE          GENRE  \\\n",
       "0   1          Edgar's Lunch (1998)       thriller    \n",
       "1   2      La guerra de papá (1977)         comedy    \n",
       "2   3   Off the Beaten Track (2010)    documentary    \n",
       "3   4        Meu Amigo Hindu (2015)          drama    \n",
       "4   5             Er nu zhai (1955)          drama    \n",
       "\n",
       "                                         DESCRIPTION  \n",
       "0   L.R. Brane loves his life - his car, his apar...  \n",
       "1   Spain, March 1964: Quico is a very naughty ch...  \n",
       "2   One year in the life of Albin and his family ...  \n",
       "3   His father has died, he hasn't spoken with hi...  \n",
       "4   Before he was known internationally as a mart...  "
      ]
     },
     "metadata": {},
     "output_type": "display_data"
    },
    {
     "name": "stdout",
     "output_type": "stream",
     "text": [
      "None\n",
      "<class 'pandas.core.frame.DataFrame'>\n",
      "RangeIndex: 54214 entries, 0 to 54213\n",
      "Data columns (total 4 columns):\n",
      " #   Column       Non-Null Count  Dtype \n",
      "---  ------       --------------  ----- \n",
      " 0   ID           54214 non-null  int64 \n",
      " 1   TITLE        54214 non-null  object\n",
      " 2   GENRE        54214 non-null  object\n",
      " 3   DESCRIPTION  54214 non-null  object\n",
      "dtypes: int64(1), object(3)\n",
      "memory usage: 1.7+ MB\n",
      "(54200, 4)\n"
     ]
    }
   ],
   "source": [
    "train_data = pd.read_csv(\"train_data.txt\",sep=':::', names=['ID', 'TITLE', 'GENRE', 'DESCRIPTION'])\n",
    "display(train_data.head())\n",
    "train_data.info()\n",
    "print(train_data.shape)\n",
    "\n",
    "\n",
    "test_data = pd.read_csv(\"test_data.txt\",sep=':::', names=['ID', 'TITLE', 'GENRE', 'DESCRIPTION'])\n",
    "print(display(test_data.head()))\n",
    "train_data.info()\n",
    "print(test_data.shape)\n",
    "\n",
    "test_solution_data = pd.read_csv(\"test_data_solution.txt\",sep=':::', names=['ID', 'TITLE', 'GENRE', 'DESCRIPTION'])\n",
    "print(display(test_solution_data.head()))\n",
    "train_data.info()\n",
    "print(test_solution_data.shape)"
   ]
  },
  {
   "cell_type": "markdown",
   "id": "d126f454",
   "metadata": {},
   "source": [
    "## DATA VISUALIZATION"
   ]
  },
  {
   "cell_type": "code",
   "execution_count": 3,
   "id": "fee34a6f",
   "metadata": {},
   "outputs": [
    {
     "data": {
      "image/png": "[encoded data removed]",
      "text/plain": [
       "<Figure size 1800x720 with 1 Axes>"
      ]
     },
     "metadata": {
      "needs_background": "light"
     },
     "output_type": "display_data"
    }
   ],
   "source": [
    "plt.figure(figsize=(25,10))\n",
    "sns.countplot(y=train_data['GENRE'], order = train_data['GENRE'].value_counts().index)\n",
    "plt.title('NUMBER OF MOVIES PER GENRE')\n",
    "plt.xlabel('Number of Movies')\n",
    "plt.ylabel('Genre')\n",
    "plt.show()"
   ]
  },
  {
   "cell_type": "code",
   "execution_count": 4,
   "id": "05051034",
   "metadata": {},
   "outputs": [
    {
     "data": {
      "image/png": "[encoded data removed]",
      "text/plain": [
       "<Figure size 1800x1080 with 1 Axes>"
      ]
     },
     "metadata": {
      "needs_background": "light"
     },
     "output_type": "display_data"
    }
   ],
   "source": [
    "train_data['DESCRIPTION_length'] = train_data['DESCRIPTION'].apply(len)\n",
    "plt.figure(figsize=(25, 15))\n",
    "sns.barplot(x='GENRE', y='DESCRIPTION_length', data=train_data)\n",
    "plt.title('DISCRIPTION LENGTH BY GENRE')\n",
    "plt.xticks(rotation=50)\n",
    "plt.xlabel('Genre')\n",
    "plt.ylabel('Description Length')\n",
    "plt.show()"
   ]
  },
  {
   "cell_type": "code",
   "execution_count": 5,
   "id": "98ab430d",
   "metadata": {},
   "outputs": [
    {
     "data": {
      "image/png": "[encoded data removed]",
      "text/plain": [
       "<Figure size 1440x720 with 1 Axes>"
      ]
     },
     "metadata": {
      "needs_background": "light"
     },
     "output_type": "display_data"
    }
   ],
   "source": [
    "top_genres = train_data['GENRE'].value_counts().head(10)\n",
    "\n",
    "plt.figure(figsize=(20, 10))\n",
    "top_genres.plot(kind='barh', color='RED')\n",
    "plt.title('TOP 10 MOST FREQUENT GENRES')\n",
    "plt.xlabel('NUMBER OF MOVIES')\n",
    "plt.ylabel('GENRE')\n",
    "plt.gca().invert_yaxis()  \n",
    "plt.show()"
   ]
  },
  {
   "cell_type": "markdown",
   "id": "87d91209",
   "metadata": {},
   "source": [
    "## HANDLING MISSING VALUES"
   ]
  },
  {
   "cell_type": "code",
   "execution_count": 6,
   "id": "1d40d22e",
   "metadata": {},
   "outputs": [],
   "source": [
    "\n",
    "from sklearn.feature_extraction.text import TfidfVectorizer\n",
    "from sklearn.preprocessing import LabelEncoder\n",
    "train_data['DESCRIPTION'].fillna(\"\", inplace=True)\n",
    "test_data['DESCRIPTION'].fillna(\"\", inplace=True)\n",
    "\n",
    "t_v = TfidfVectorizer(stop_words='english', max_features=100000)\n",
    "X_train = t_v.fit_transform(train_data['DESCRIPTION'])\n",
    "X_test = t_v.transform(test_data['DESCRIPTION'])\n",
    "\n",
    "label_encoder = LabelEncoder()\n",
    "y_train = label_encoder.fit_transform(train_data['GENRE'])\n",
    "y_test = label_encoder.transform(test_solution_data['GENRE'])"
   ]
  },
  {
   "cell_type": "markdown",
   "id": "4037307a",
   "metadata": {},
   "source": [
    "## TRYING VARIOUS ML MODELS"
   ]
  },
  {
   "cell_type": "markdown",
   "id": "15a333dc",
   "metadata": {},
   "source": [
    "## SVM"
   ]
  },
  {
   "cell_type": "code",
   "execution_count": 7,
   "id": "3d551173",
   "metadata": {},
   "outputs": [
    {
     "name": "stdout",
     "output_type": "stream",
     "text": [
      "Validation Accuracy: 0.5890436226136678\n",
      "Validation Classification Report:\n",
      "               precision    recall  f1-score   support\n",
      "\n",
      "           0       0.49      0.33      0.39       263\n",
      "           1       0.63      0.49      0.55       112\n",
      "           2       0.39      0.21      0.27       139\n",
      "           3       0.42      0.17      0.24       104\n",
      "           4       0.00      0.00      0.00        61\n",
      "           5       0.55      0.57      0.56      1443\n",
      "           6       0.29      0.06      0.09       107\n",
      "           7       0.68      0.84      0.75      2659\n",
      "           8       0.57      0.74      0.64      2697\n",
      "           9       0.37      0.15      0.22       150\n",
      "          10       0.07      0.01      0.02        74\n",
      "          11       0.78      0.70      0.74        40\n",
      "          12       0.00      0.00      0.00        45\n",
      "          13       0.61      0.69      0.65       431\n",
      "          14       0.58      0.56      0.57       144\n",
      "          15       0.14      0.02      0.04        50\n",
      "          16       0.25      0.04      0.06        56\n",
      "          17       0.25      0.06      0.10        34\n",
      "          18       0.48      0.21      0.29       192\n",
      "          19       0.13      0.01      0.02       151\n",
      "          20       0.48      0.29      0.36       143\n",
      "          21       0.49      0.31      0.38      1045\n",
      "          22       0.58      0.43      0.49        93\n",
      "          23       0.57      0.25      0.34        81\n",
      "          24       0.33      0.13      0.19       309\n",
      "          25       0.50      0.05      0.09        20\n",
      "          26       0.76      0.84      0.80       200\n",
      "\n",
      "    accuracy                           0.59     10843\n",
      "   macro avg       0.42      0.30      0.33     10843\n",
      "weighted avg       0.55      0.59      0.55     10843\n",
      "\n"
     ]
    }
   ],
   "source": [
    "from sklearn.svm import LinearSVC\n",
    "from sklearn.model_selection import train_test_split\n",
    "from sklearn.metrics import accuracy_score, classification_report\n",
    "X_train_n, X_val, y_train_n, y_val = train_test_split(X_train, y_train, test_size=0.2, random_state=42)\n",
    "\n",
    "clf = LinearSVC(loss=\"hinge\")\n",
    "clf.fit(X_train_n, y_train_n)\n",
    "\n",
    "y_val_pred = clf.predict(X_val)\n",
    "print(\"Validation Accuracy:\", accuracy_score(y_val, y_val_pred))\n",
    "print(\"Validation Classification Report:\\n\", classification_report(y_val, y_val_pred))"
   ]
  },
  {
   "cell_type": "code",
   "execution_count": 8,
   "id": "02d57f2f",
   "metadata": {},
   "outputs": [
    {
     "name": "stdout",
     "output_type": "stream",
     "text": [
      "Test Accuracy: 0.09357933579335793\n",
      "Test Classification Report:\n",
      "               precision    recall  f1-score   support\n",
      "\n",
      "           0       0.00      0.00      0.00      1314\n",
      "           1       0.00      0.00      0.00       590\n",
      "           2       0.00      0.00      0.00       775\n",
      "           3       0.00      0.00      0.00       498\n",
      "           4       0.00      0.00      0.00       264\n",
      "           5       0.00      0.00      0.00      7446\n",
      "           6       0.00      0.00      0.00       505\n",
      "           7       0.00      0.00      0.00     13096\n",
      "           8       0.00      0.00      0.00     13612\n",
      "           9       0.00      0.00      0.00       783\n",
      "          10       0.00      0.00      0.00       322\n",
      "          11       0.00      0.00      0.00       193\n",
      "          12       0.00      0.00      0.00       243\n",
      "          13       0.00      0.00      0.00      2204\n",
      "          14       0.00      0.00      0.00       731\n",
      "          15       0.00      0.00      0.00       276\n",
      "          16       0.00      0.00      0.00       318\n",
      "          17       0.00      0.00      0.00       181\n",
      "          18       0.00      0.00      0.00       883\n",
      "          19       0.00      0.00      0.00       672\n",
      "          20       0.00      0.00      0.00       646\n",
      "          21       0.09      1.00      0.17      5072\n",
      "          22       0.00      0.00      0.00       431\n",
      "          23       0.00      0.00      0.00       391\n",
      "          24       0.00      0.00      0.00      1590\n",
      "          25       0.00      0.00      0.00       132\n",
      "          26       0.00      0.00      0.00      1032\n",
      "\n",
      "    accuracy                           0.09     54200\n",
      "   macro avg       0.00      0.04      0.01     54200\n",
      "weighted avg       0.01      0.09      0.02     54200\n",
      "\n"
     ]
    },
    {
     "name": "stderr",
     "output_type": "stream",
     "text": [
      "F:\\Users\\Admin\\anaconda3\\lib\\site-packages\\sklearn\\metrics\\_classification.py:1344: UndefinedMetricWarning: Precision and F-score are ill-defined and being set to 0.0 in labels with no predicted samples. Use `zero_division` parameter to control this behavior.\n",
      "  _warn_prf(average, modifier, msg_start, len(result))\n",
      "F:\\Users\\Admin\\anaconda3\\lib\\site-packages\\sklearn\\metrics\\_classification.py:1344: UndefinedMetricWarning: Precision and F-score are ill-defined and being set to 0.0 in labels with no predicted samples. Use `zero_division` parameter to control this behavior.\n",
      "  _warn_prf(average, modifier, msg_start, len(result))\n",
      "F:\\Users\\Admin\\anaconda3\\lib\\site-packages\\sklearn\\metrics\\_classification.py:1344: UndefinedMetricWarning: Precision and F-score are ill-defined and being set to 0.0 in labels with no predicted samples. Use `zero_division` parameter to control this behavior.\n",
      "  _warn_prf(average, modifier, msg_start, len(result))\n"
     ]
    }
   ],
   "source": [
    "y_pred = clf.predict(X_test)\n",
    "print(\"Test Accuracy:\", accuracy_score(y_test, y_pred))\n",
    "print(\"Test Classification Report:\\n\", classification_report(y_test, y_pred))"
   ]
  },
  {
   "cell_type": "markdown",
   "id": "f040ec1c",
   "metadata": {},
   "source": [
    "## NAIVE BAYES"
   ]
  },
  {
   "cell_type": "code",
   "execution_count": 9,
   "id": "d5287004",
   "metadata": {},
   "outputs": [
    {
     "data": {
      "text/html": [
       "<style>#sk-container-id-1 {color: black;background-color: white;}#sk-container-id-1 pre{padding: 0;}#sk-container-id-1 div.sk-toggleable {background-color: white;}#sk-container-id-1 label.sk-toggleable__label {cursor: pointer;display: block;width: 100%;margin-bottom: 0;padding: 0.3em;box-sizing: border-box;text-align: center;}#sk-container-id-1 label.sk-toggleable__label-arrow:before {content: \"▸\";float: left;margin-right: 0.25em;color: #696969;}#sk-container-id-1 label.sk-toggleable__label-arrow:hover:before {color: black;}#sk-container-id-1 div.sk-estimator:hover label.sk-toggleable__label-arrow:before {color: black;}#sk-container-id-1 div.sk-toggleable__content {max-height: 0;max-width: 0;overflow: hidden;text-align: left;background-color: #f0f8ff;}#sk-container-id-1 div.sk-toggleable__content pre {margin: 0.2em;color: black;border-radius: 0.25em;background-color: #f0f8ff;}#sk-container-id-1 input.sk-toggleable__control:checked~div.sk-toggleable__content {max-height: 200px;max-width: 100%;overflow: auto;}#sk-container-id-1 input.sk-toggleable__control:checked~label.sk-toggleable__label-arrow:before {content: \"▾\";}#sk-container-id-1 div.sk-estimator input.sk-toggleable__control:checked~label.sk-toggleable__label {background-color: #d4ebff;}#sk-container-id-1 div.sk-label input.sk-toggleable__control:checked~label.sk-toggleable__label {background-color: #d4ebff;}#sk-container-id-1 input.sk-hidden--visually {border: 0;clip: rect(1px 1px 1px 1px);clip: rect(1px, 1px, 1px, 1px);height: 1px;margin: -1px;overflow: hidden;padding: 0;position: absolute;width: 1px;}#sk-container-id-1 div.sk-estimator {font-family: monospace;background-color: #f0f8ff;border: 1px dotted black;border-radius: 0.25em;box-sizing: border-box;margin-bottom: 0.5em;}#sk-container-id-1 div.sk-estimator:hover {background-color: #d4ebff;}#sk-container-id-1 div.sk-parallel-item::after {content: \"\";width: 100%;border-bottom: 1px solid gray;flex-grow: 1;}#sk-container-id-1 div.sk-label:hover label.sk-toggleable__label {background-color: #d4ebff;}#sk-container-id-1 div.sk-serial::before {content: \"\";position: absolute;border-left: 1px solid gray;box-sizing: border-box;top: 0;bottom: 0;left: 50%;z-index: 0;}#sk-container-id-1 div.sk-serial {display: flex;flex-direction: column;align-items: center;background-color: white;padding-right: 0.2em;padding-left: 0.2em;position: relative;}#sk-container-id-1 div.sk-item {position: relative;z-index: 1;}#sk-container-id-1 div.sk-parallel {display: flex;align-items: stretch;justify-content: center;background-color: white;position: relative;}#sk-container-id-1 div.sk-item::before, #sk-container-id-1 div.sk-parallel-item::before {content: \"\";position: absolute;border-left: 1px solid gray;box-sizing: border-box;top: 0;bottom: 0;left: 50%;z-index: -1;}#sk-container-id-1 div.sk-parallel-item {display: flex;flex-direction: column;z-index: 1;position: relative;background-color: white;}#sk-container-id-1 div.sk-parallel-item:first-child::after {align-self: flex-end;width: 50%;}#sk-container-id-1 div.sk-parallel-item:last-child::after {align-self: flex-start;width: 50%;}#sk-container-id-1 div.sk-parallel-item:only-child::after {width: 0;}#sk-container-id-1 div.sk-dashed-wrapped {border: 1px dashed gray;margin: 0 0.4em 0.5em 0.4em;box-sizing: border-box;padding-bottom: 0.4em;background-color: white;}#sk-container-id-1 div.sk-label label {font-family: monospace;font-weight: bold;display: inline-block;line-height: 1.2em;}#sk-container-id-1 div.sk-label-container {text-align: center;}#sk-container-id-1 div.sk-container {/* jupyter's `normalize.less` sets `[hidden] { display: none; }` but bootstrap.min.css set `[hidden] { display: none !important; }` so we also need the `!important` here to be able to override the default hidden behavior on the sphinx rendered scikit-learn.org. See: https://github.com/scikit-learn/scikit-learn/issues/21755 */display: inline-block !important;position: relative;}#sk-container-id-1 div.sk-text-repr-fallback {display: none;}</style><div id=\"sk-container-id-1\" class=\"sk-top-container\"><div class=\"sk-text-repr-fallback\"><pre>MultinomialNB()</pre><b>In a Jupyter environment, please rerun this cell to show the HTML representation or trust the notebook. <br />On GitHub, the HTML representation is unable to render, please try loading this page with nbviewer.org.</b></div><div class=\"sk-container\" hidden><div class=\"sk-item\"><div class=\"sk-estimator sk-toggleable\"><input class=\"sk-toggleable__control sk-hidden--visually\" id=\"sk-estimator-id-1\" type=\"checkbox\" checked><label for=\"sk-estimator-id-1\" class=\"sk-toggleable__label sk-toggleable__label-arrow\">MultinomialNB</label><div class=\"sk-toggleable__content\"><pre>MultinomialNB()</pre></div></div></div></div></div>"
      ],
      "text/plain": [
       "MultinomialNB()"
      ]
     },
     "execution_count": 9,
     "metadata": {},
     "output_type": "execute_result"
    }
   ],
   "source": [
    "from sklearn.naive_bayes import MultinomialNB\n",
    "Mnb_classifier = MultinomialNB()\n",
    "Mnb_classifier.fit(X_train, y_train)"
   ]
  },
  {
   "cell_type": "code",
   "execution_count": 10,
   "id": "3bb35c6c",
   "metadata": {},
   "outputs": [
    {
     "name": "stdout",
     "output_type": "stream",
     "text": [
      "Validation Accuracy: 0.2511439114391144\n"
     ]
    }
   ],
   "source": [
    "y_pred=Mnb_classifier.predict(X_test)\n",
    "print(\"Validation Accuracy:\",accuracy_score(y_test,y_pred))\n"
   ]
  },
  {
   "cell_type": "code",
   "execution_count": 11,
   "id": "7a4ef4e3",
   "metadata": {},
   "outputs": [
    {
     "name": "stdout",
     "output_type": "stream",
     "text": [
      "Test Classification Report:\n",
      "               precision    recall  f1-score   support\n",
      "\n",
      "           0       0.00      0.00      0.00      1314\n",
      "           1       0.00      0.00      0.00       590\n",
      "           2       0.00      0.00      0.00       775\n",
      "           3       0.00      0.00      0.00       498\n",
      "           4       0.00      0.00      0.00       264\n",
      "           5       0.00      0.00      0.00      7446\n",
      "           6       0.00      0.00      0.00       505\n",
      "           7       0.00      0.00      0.00     13096\n",
      "           8       0.25      1.00      0.40     13612\n",
      "           9       0.00      0.00      0.00       783\n",
      "          10       0.00      0.00      0.00       322\n",
      "          11       0.00      0.00      0.00       193\n",
      "          12       0.00      0.00      0.00       243\n",
      "          13       0.00      0.00      0.00      2204\n",
      "          14       0.00      0.00      0.00       731\n",
      "          15       0.00      0.00      0.00       276\n",
      "          16       0.00      0.00      0.00       318\n",
      "          17       0.00      0.00      0.00       181\n",
      "          18       0.00      0.00      0.00       883\n",
      "          19       0.00      0.00      0.00       672\n",
      "          20       0.00      0.00      0.00       646\n",
      "          21       0.00      0.00      0.00      5072\n",
      "          22       0.00      0.00      0.00       431\n",
      "          23       0.00      0.00      0.00       391\n",
      "          24       0.00      0.00      0.00      1590\n",
      "          25       0.00      0.00      0.00       132\n",
      "          26       0.00      0.00      0.00      1032\n",
      "\n",
      "    accuracy                           0.25     54200\n",
      "   macro avg       0.01      0.04      0.01     54200\n",
      "weighted avg       0.06      0.25      0.10     54200\n",
      "\n"
     ]
    },
    {
     "name": "stderr",
     "output_type": "stream",
     "text": [
      "F:\\Users\\Admin\\anaconda3\\lib\\site-packages\\sklearn\\metrics\\_classification.py:1344: UndefinedMetricWarning: Precision and F-score are ill-defined and being set to 0.0 in labels with no predicted samples. Use `zero_division` parameter to control this behavior.\n",
      "  _warn_prf(average, modifier, msg_start, len(result))\n",
      "F:\\Users\\Admin\\anaconda3\\lib\\site-packages\\sklearn\\metrics\\_classification.py:1344: UndefinedMetricWarning: Precision and F-score are ill-defined and being set to 0.0 in labels with no predicted samples. Use `zero_division` parameter to control this behavior.\n",
      "  _warn_prf(average, modifier, msg_start, len(result))\n",
      "F:\\Users\\Admin\\anaconda3\\lib\\site-packages\\sklearn\\metrics\\_classification.py:1344: UndefinedMetricWarning: Precision and F-score are ill-defined and being set to 0.0 in labels with no predicted samples. Use `zero_division` parameter to control this behavior.\n",
      "  _warn_prf(average, modifier, msg_start, len(result))\n"
     ]
    }
   ],
   "source": [
    "print(\"Test Classification Report:\\n\",classification_report(y_test,y_pred))"
   ]
  },
  {
   "cell_type": "markdown",
   "id": "0693cfd3",
   "metadata": {},
   "source": [
    "## LogisticRegression"
   ]
  },
  {
   "cell_type": "code",
   "execution_count": 12,
   "id": "05bf85d6",
   "metadata": {},
   "outputs": [
    {
     "data": {
      "text/html": [
       "<style>#sk-container-id-2 {color: black;background-color: white;}#sk-container-id-2 pre{padding: 0;}#sk-container-id-2 div.sk-toggleable {background-color: white;}#sk-container-id-2 label.sk-toggleable__label {cursor: pointer;display: block;width: 100%;margin-bottom: 0;padding: 0.3em;box-sizing: border-box;text-align: center;}#sk-container-id-2 label.sk-toggleable__label-arrow:before {content: \"▸\";float: left;margin-right: 0.25em;color: #696969;}#sk-container-id-2 label.sk-toggleable__label-arrow:hover:before {color: black;}#sk-container-id-2 div.sk-estimator:hover label.sk-toggleable__label-arrow:before {color: black;}#sk-container-id-2 div.sk-toggleable__content {max-height: 0;max-width: 0;overflow: hidden;text-align: left;background-color: #f0f8ff;}#sk-container-id-2 div.sk-toggleable__content pre {margin: 0.2em;color: black;border-radius: 0.25em;background-color: #f0f8ff;}#sk-container-id-2 input.sk-toggleable__control:checked~div.sk-toggleable__content {max-height: 200px;max-width: 100%;overflow: auto;}#sk-container-id-2 input.sk-toggleable__control:checked~label.sk-toggleable__label-arrow:before {content: \"▾\";}#sk-container-id-2 div.sk-estimator input.sk-toggleable__control:checked~label.sk-toggleable__label {background-color: #d4ebff;}#sk-container-id-2 div.sk-label input.sk-toggleable__control:checked~label.sk-toggleable__label {background-color: #d4ebff;}#sk-container-id-2 input.sk-hidden--visually {border: 0;clip: rect(1px 1px 1px 1px);clip: rect(1px, 1px, 1px, 1px);height: 1px;margin: -1px;overflow: hidden;padding: 0;position: absolute;width: 1px;}#sk-container-id-2 div.sk-estimator {font-family: monospace;background-color: #f0f8ff;border: 1px dotted black;border-radius: 0.25em;box-sizing: border-box;margin-bottom: 0.5em;}#sk-container-id-2 div.sk-estimator:hover {background-color: #d4ebff;}#sk-container-id-2 div.sk-parallel-item::after {content: \"\";width: 100%;border-bottom: 1px solid gray;flex-grow: 1;}#sk-container-id-2 div.sk-label:hover label.sk-toggleable__label {background-color: #d4ebff;}#sk-container-id-2 div.sk-serial::before {content: \"\";position: absolute;border-left: 1px solid gray;box-sizing: border-box;top: 0;bottom: 0;left: 50%;z-index: 0;}#sk-container-id-2 div.sk-serial {display: flex;flex-direction: column;align-items: center;background-color: white;padding-right: 0.2em;padding-left: 0.2em;position: relative;}#sk-container-id-2 div.sk-item {position: relative;z-index: 1;}#sk-container-id-2 div.sk-parallel {display: flex;align-items: stretch;justify-content: center;background-color: white;position: relative;}#sk-container-id-2 div.sk-item::before, #sk-container-id-2 div.sk-parallel-item::before {content: \"\";position: absolute;border-left: 1px solid gray;box-sizing: border-box;top: 0;bottom: 0;left: 50%;z-index: -1;}#sk-container-id-2 div.sk-parallel-item {display: flex;flex-direction: column;z-index: 1;position: relative;background-color: white;}#sk-container-id-2 div.sk-parallel-item:first-child::after {align-self: flex-end;width: 50%;}#sk-container-id-2 div.sk-parallel-item:last-child::after {align-self: flex-start;width: 50%;}#sk-container-id-2 div.sk-parallel-item:only-child::after {width: 0;}#sk-container-id-2 div.sk-dashed-wrapped {border: 1px dashed gray;margin: 0 0.4em 0.5em 0.4em;box-sizing: border-box;padding-bottom: 0.4em;background-color: white;}#sk-container-id-2 div.sk-label label {font-family: monospace;font-weight: bold;display: inline-block;line-height: 1.2em;}#sk-container-id-2 div.sk-label-container {text-align: center;}#sk-container-id-2 div.sk-container {/* jupyter's `normalize.less` sets `[hidden] { display: none; }` but bootstrap.min.css set `[hidden] { display: none !important; }` so we also need the `!important` here to be able to override the default hidden behavior on the sphinx rendered scikit-learn.org. See: https://github.com/scikit-learn/scikit-learn/issues/21755 */display: inline-block !important;position: relative;}#sk-container-id-2 div.sk-text-repr-fallback {display: none;}</style><div id=\"sk-container-id-2\" class=\"sk-top-container\"><div class=\"sk-text-repr-fallback\"><pre>LogisticRegression(max_iter=500)</pre><b>In a Jupyter environment, please rerun this cell to show the HTML representation or trust the notebook. <br />On GitHub, the HTML representation is unable to render, please try loading this page with nbviewer.org.</b></div><div class=\"sk-container\" hidden><div class=\"sk-item\"><div class=\"sk-estimator sk-toggleable\"><input class=\"sk-toggleable__control sk-hidden--visually\" id=\"sk-estimator-id-2\" type=\"checkbox\" checked><label for=\"sk-estimator-id-2\" class=\"sk-toggleable__label sk-toggleable__label-arrow\">LogisticRegression</label><div class=\"sk-toggleable__content\"><pre>LogisticRegression(max_iter=500)</pre></div></div></div></div></div>"
      ],
      "text/plain": [
       "LogisticRegression(max_iter=500)"
      ]
     },
     "execution_count": 12,
     "metadata": {},
     "output_type": "execute_result"
    }
   ],
   "source": [
    "from sklearn.linear_model import LogisticRegression\n",
    "lr_classifier = LogisticRegression(max_iter=500)\n",
    "lr_classifier.fit(X_train, y_train)"
   ]
  },
  {
   "cell_type": "code",
   "execution_count": 13,
   "id": "a13a4716",
   "metadata": {},
   "outputs": [
    {
     "name": "stdout",
     "output_type": "stream",
     "text": [
      "Validation Accuracy: 0.2511439114391144\n",
      "Test Classification Report:\n",
      "               precision    recall  f1-score   support\n",
      "\n",
      "           0       0.00      0.00      0.00      1314\n",
      "           1       0.00      0.00      0.00       590\n",
      "           2       0.00      0.00      0.00       775\n",
      "           3       0.00      0.00      0.00       498\n",
      "           4       0.00      0.00      0.00       264\n",
      "           5       0.00      0.00      0.00      7446\n",
      "           6       0.00      0.00      0.00       505\n",
      "           7       0.00      0.00      0.00     13096\n",
      "           8       0.25      1.00      0.40     13612\n",
      "           9       0.00      0.00      0.00       783\n",
      "          10       0.00      0.00      0.00       322\n",
      "          11       0.00      0.00      0.00       193\n",
      "          12       0.00      0.00      0.00       243\n",
      "          13       0.00      0.00      0.00      2204\n",
      "          14       0.00      0.00      0.00       731\n",
      "          15       0.00      0.00      0.00       276\n",
      "          16       0.00      0.00      0.00       318\n",
      "          17       0.00      0.00      0.00       181\n",
      "          18       0.00      0.00      0.00       883\n",
      "          19       0.00      0.00      0.00       672\n",
      "          20       0.00      0.00      0.00       646\n",
      "          21       0.00      0.00      0.00      5072\n",
      "          22       0.00      0.00      0.00       431\n",
      "          23       0.00      0.00      0.00       391\n",
      "          24       0.00      0.00      0.00      1590\n",
      "          25       0.00      0.00      0.00       132\n",
      "          26       0.00      0.00      0.00      1032\n",
      "\n",
      "    accuracy                           0.25     54200\n",
      "   macro avg       0.01      0.04      0.01     54200\n",
      "weighted avg       0.06      0.25      0.10     54200\n",
      "\n"
     ]
    },
    {
     "name": "stderr",
     "output_type": "stream",
     "text": [
      "F:\\Users\\Admin\\anaconda3\\lib\\site-packages\\sklearn\\metrics\\_classification.py:1344: UndefinedMetricWarning: Precision and F-score are ill-defined and being set to 0.0 in labels with no predicted samples. Use `zero_division` parameter to control this behavior.\n",
      "  _warn_prf(average, modifier, msg_start, len(result))\n",
      "F:\\Users\\Admin\\anaconda3\\lib\\site-packages\\sklearn\\metrics\\_classification.py:1344: UndefinedMetricWarning: Precision and F-score are ill-defined and being set to 0.0 in labels with no predicted samples. Use `zero_division` parameter to control this behavior.\n",
      "  _warn_prf(average, modifier, msg_start, len(result))\n",
      "F:\\Users\\Admin\\anaconda3\\lib\\site-packages\\sklearn\\metrics\\_classification.py:1344: UndefinedMetricWarning: Precision and F-score are ill-defined and being set to 0.0 in labels with no predicted samples. Use `zero_division` parameter to control this behavior.\n",
      "  _warn_prf(average, modifier, msg_start, len(result))\n"
     ]
    }
   ],
   "source": [
    "y_pred=lr_classifier.predict(X_test)\n",
    "print(\"Validation Accuracy:\",accuracy_score(y_test,y_pred))\n",
    "print(\"Test Classification Report:\\n\",classification_report(y_test,y_pred))\n"
   ]
  },
  {
   "cell_type": "markdown",
   "id": "b05aa701",
   "metadata": {},
   "source": [
    "## MAKING A FUNCTION FOR PREDICTING MOVIE BASED ON USER INPUT"
   ]
  },
  {
   "cell_type": "code",
   "execution_count": 20,
   "id": "d5a3f774",
   "metadata": {},
   "outputs": [
    {
     "name": "stdout",
     "output_type": "stream",
     "text": [
      " action \n",
      " horror \n"
     ]
    }
   ],
   "source": [
    "def predict_movie(input_):\n",
    "    transformed_input = t_v.transform([input_])\n",
    "    pred_label = clf.predict(transformed_input)\n",
    "    return label_encoder.inverse_transform(pred_label)[0]\n",
    "\n",
    "sample_descr_for_movie = \"A movie where police kill the criminals \"\n",
    "print(predict_movie(sample_descr_for_movie))\n",
    "\n",
    "sample_descr_for_movie1 = \"A movie where ghost threten the girl\"\n",
    "print(predict_movie(sample_descr_for_movie1))"
   ]
  },
  {
   "cell_type": "code",
   "execution_count": null,
   "id": "e38999be",
   "metadata": {},
   "outputs": [],
   "source": []
  }
 ],
 "metadata": {
  "kernelspec": {
   "display_name": "Python 3 (ipykernel)",
   "language": "python",
   "name": "python3"
  },
  "language_info": {
   "codemirror_mode": {
    "name": "ipython",
    "version": 3
   },
   "file_extension": ".py",
   "mimetype": "text/x-python",
   "name": "python",
   "nbconvert_exporter": "python",
   "pygments_lexer": "ipython3",
   "version": "3.9.7"
  }
 },
 "nbformat": 4,
 "nbformat_minor": 5
}
